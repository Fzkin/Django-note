{
 "cells": [
  {
   "cell_type": "markdown",
   "metadata": {},
   "source": [
    "# 报错信息"
   ]
  },
  {
   "cell_type": "markdown",
   "metadata": {},
   "source": [
    "No such Table ‘auth_user’\n",
    "\n",
    ">python manage.py migrate   \n",
    "python manage.py createsuperuser   "
   ]
  },
  {
   "cell_type": "markdown",
   "metadata": {},
   "source": [
    "found 84 vulnerabilities (65 low, 7 moderate, 11 high, 1 critical)   \n",
    "  run `npm audit fix` to fix them, or `npm audit` for details   \n",
    ">npm cache clean --force"
   ]
  },
  {
   "cell_type": "markdown",
   "metadata": {},
   "source": [
    "# 使用方法"
   ]
  },
  {
   "cell_type": "markdown",
   "metadata": {},
   "source": [
    "#### 语法\n",
    "+ 变量   {{}}    value.id    \n",
    "1、即value为字典访问名为id的键值  \n",
    "2、即value为对象访问属性，方法  \n",
    "3、即value为列表访问索引   \n",
    "+ 语法 \n",
    "{% %}    \n",
    "循环末尾要加上{% endif %}  {% endfor %}   \n",
    "中间穿插标签  \n",
    "+ 注释    {#  #}\n",
    "+ 过滤器  {{ | }}\n",
    "过滤器传参  {{ list|join:\",\" }}  使用:\"\"   \n",
    "+ 特殊 {% empty %}     \n",
    "当迭代目标为空，执行  \n",
    "+ 特殊 ifequal/ifnotequal  结尾 endifequal/endifnotequal  \n"
   ]
  },
  {
   "cell_type": "markdown",
   "metadata": {},
   "source": [
    "循环内计数函数   \n",
    ">forllop.counter   \n",
    "forloop.counter0   \n",
    "forloop.revcounter   \n",
    "forloop.revcounter0   \n",
    "forloop.first   \n",
    "forloop.last   \n",
    "forloop.parentloop   "
   ]
  },
  {
   "cell_type": "markdown",
   "metadata": {},
   "source": [
    "# 特殊技术"
   ]
  },
  {
   "cell_type": "markdown",
   "metadata": {},
   "source": [
    "跨站请求伪造保护  \n",
    ">csrf_token  \n",
    "{% csrf_token %}"
   ]
  },
  {
   "cell_type": "markdown",
   "metadata": {},
   "source": [
    "Django 的模板中的数学运算\n",
    "前言\n",
    "\n",
    "django模板只提供了加法的filter，没有提供专门的乘法和除法运算；\n",
    "django提供了widthratio的tag用来计算比率，可以变相用于乘法和除法的计算。\n",
    "\n",
    "加法\n",
    "\n",
    "{{value|add:10}}\n",
    "note:value=5,则结果返回15\n",
    "\n",
    "减法\n",
    "\n",
    "{{value|add:-10}}\n",
    "note:value=5,则结果返回-5，加一个负数就是减法了\n",
    "\n",
    "乘法\n",
    "\n",
    "{% widthratio 5 1 100%}\n",
    "note:等同于：(5 / 1) * 100 ，结果返回500，withratio需要三个参数，它会使用参数1/参数2*参数3的方式进行运算，进行乘法运算，使「参数2」=1\n",
    "\n",
    "除法\n",
    "\n",
    "{% widthratio 5 100 1%}\n",
    "note:等同于：(5 / 100) * 1,则结果返回0.05,和乘法一样，使「参数3」= 1就是除法了。"
   ]
  },
  {
   "cell_type": "markdown",
   "metadata": {},
   "source": [
    "过滤器\n",
    "+ 1、add ：将value的值增加2。使用形式为：{{ value | add: \"2\"}}。   \n",
    "\n",
    "+ 2、addslashes：在value中的引号前增加反斜线。使用形式为：{{ value | addslashes }}。  \n",
    "\n",
    "+ 3、capfirst：value的第一个字符转化成大写形式。使用形式为：{{ value | capfirst }}。  \n",
    " \n",
    "+ 4、cut：从给定value中删除所有arg的值。使用形式为：{{ value | cut:arg}}。  \n",
    "\n",
    "+ 5、date: 格式化时间格式。使用形式为：{{ value | date:\"Y-m-d H:M:S\" }}  \n",
    "\n",
    "+ 6、default：如果value是False，那么输出使用缺省值。使用形式：{{ value | default: \"nothing\" }}。例如，如果value是“”，那么输出将是nothing  \n",
    "\n",
    "+ 7、default_if_none：如果value是None，那么输出将使用缺省值。使用形式：{{ value | default_if_none:\"nothing\" }}，例如，如果value是None，那么输出将是nothing  \n",
    "\n",
    "+ 8、dictsort：如果value的值是一个字典，那么返回值是按照关键字排序的结果  \n",
    "使用形式：{{ value | dictsort:\"name\"}}，例如，  \n",
    "如果value是：  \n",
    "[{'name': 'python'},{'name': 'java'},{'name': 'c++'},]   \n",
    "那么，输出是：   \n",
    "[{'name': 'c++'},{'name': 'java'},{'name': 'python'}, ]   \n",
    "\n",
    "+ 9、dictsortreversed：如果value的值是一个字典，那么返回值是按照关键字排序的结果的反序。使用形式：与dictsort过滤器相同。  \n",
    "   \n",
    "+ 10、divisibleby：如果value能够被arg整除，那么返回值将是True。使用形式：{{ value | divisibleby:arg}}，如果value是9，arg是3，那么输出将是True   \n",
    "  \n",
    "+ 11、escape：替换value中的某些字符，以适应HTML格式。使用形式：{{ value | escape}}。例如，< 转化为 &lt;> 转化为 &gt;' 转化为 &#39;\" 转化为 &quot;   \n",
    "\n",
    "+ 13、filesizeformat：格式化value，使其成为易读的文件大小。使用形式：{{ value | filesizeformat }}。例如：13KB，4.1MB等。   \n",
    "\n",
    "+ 14、first：返回列表/字符串中的第一个元素。使用形式：{{ value | first }}   \n",
    "\n",
    "+ 16、iriencode：如果value中有非ASCII字符，那么将其进行转化成URL中适合的编码，如果value已经进行过URLENCODE，改操作就不会再起作用。使用形式：{{value | iriencode}}   \n",
    "\n",
    "+ 17、join：使用指定的字符串连接一个list，作用如同python的str.join(list)。使用形式：{{ value | join:\"arg\"}}，如果value是['a','b','c']，arg是'//'那么输出是a//b//c   \n",
    "\n",
    "+ 18、last：返回列表/字符串中的最后一个元素。使用形式：{{ value | last }}   \n",
    "\n",
    "+ 19、length：返回value的长度。使用形式：{{ value | length }}   \n",
    "\n",
    "+ 20、length_is：如果value的长度等于arg的时候返回True。使用形式：{{ value | length_is:\"arg\"}}。例如：如果value是['a','b','c']，arg是3，那么返回True   \n",
    "\n",
    "+ 21、linebreaks：value中的\"\\n\"将被<br/>替代，并且整个value使用</p>包围起来。使用形式：{{value|linebreaks}}   \n",
    "\n",
    "+ 22、linebreaksbr：value中的\"\\n\"将被<br/>替代。使用形式：{{value |linebreaksbr}}    \n",
    "\n",
    "+ 23、linenumbers：显示的文本，带有行数。使用形式：{{value | linenumbers}}   \n",
    "\n",
    "+ 24、ljust：在一个给定宽度的字段中，左对齐显示value。使用形式：{{value | ljust}}   \n",
    "\n",
    "+ 25、center：在一个给定宽度的字段中，中心对齐显示value。使用形式：{{value | center}}   \n",
    "\n",
    "+ 26、rjust：：在一个给定宽度的字段中，右对齐显示value。使用形式：{{value | rjust}}   \n",
    "\n",
    "+ 27、lower：将一个字符串转换成小写形式。使用形式：{{value | lower}}   \n",
    "\n",
    "+ 30、random：从给定的list中返回一个任意的Item。使用形式：{{value | random}}   \n",
    "\n",
    "+ 31、removetags：删除value中tag1,tag2....的标签。使用形式：{{value | removetags:\"tag1 tag2 tag3...\"}}   \n",
    " \n",
    "+ 32、safe：当系统设置autoescaping打开的时候，该过滤器使得输出不进行escape转换。使用形式：{{value | safe}}   \n",
    " \n",
    "+ 33、safeseq：与safe基本相同，但有一点不同的就是：safe是针对字符串，而safeseq是针对多个字符串组成的sequence   \n",
    "\n",
    "+ 34、slice：与python语法中的slice相同。使用形式：{{some_list | slice:\"2\"}}   \n",
    "\n",
    "+ 37、striptags：删除value中的所有HTML标签.使用形式：{{value | striptags}}   \n",
    "\n",
    "+ 38、time：格式化时间输出。使用形式：{{value | time:\"H:i\"}}或者{{value | time}}   \n",
    "\n",
    "+ 39、title：转换一个字符串成为title格式。   \n",
    "\n",
    "+ 40、truncatewords：将value切成truncatewords指定的单词数目。使用形式：{{value | truncatewords:2}}。例如，如果value是Joel is a slug 那么输出将是：Joel is ...   \n",
    " \n",
    "+ 42、upper：转换一个字符串为大写形式   \n",
    "\n",
    "+ 43、urlencode：将一个字符串进行URLEncode   \n",
    "\n",
    "+ 46、wordcount：返回字符串中单词的数目    "
   ]
  },
  {
   "cell_type": "code",
   "execution_count": 9,
   "metadata": {},
   "outputs": [
    {
     "data": {
      "text/plain": [
       "[0,\n",
       " 1,\n",
       " 2,\n",
       " 3,\n",
       " 4,\n",
       " 5,\n",
       " 6,\n",
       " 7,\n",
       " 8,\n",
       " 9,\n",
       " 10,\n",
       " 11,\n",
       " 12,\n",
       " 13,\n",
       " 14,\n",
       " 15,\n",
       " 16,\n",
       " 17,\n",
       " 18,\n",
       " 19,\n",
       " 20,\n",
       " 21,\n",
       " 22,\n",
       " 23,\n",
       " 24,\n",
       " 25,\n",
       " 26,\n",
       " 27,\n",
       " 28,\n",
       " 29,\n",
       " 30,\n",
       " 31,\n",
       " 32,\n",
       " 33,\n",
       " 34,\n",
       " 35,\n",
       " 36,\n",
       " 37,\n",
       " 38,\n",
       " 39,\n",
       " 40,\n",
       " 41,\n",
       " 42,\n",
       " 43,\n",
       " 44,\n",
       " 45,\n",
       " 46,\n",
       " 47,\n",
       " 48,\n",
       " 49,\n",
       " 50,\n",
       " 51,\n",
       " 52,\n",
       " 53,\n",
       " 54,\n",
       " 55,\n",
       " 56,\n",
       " 57,\n",
       " 58,\n",
       " 59,\n",
       " 60,\n",
       " 61,\n",
       " 62,\n",
       " 63,\n",
       " 64,\n",
       " 65,\n",
       " 66,\n",
       " 67,\n",
       " 68,\n",
       " 69,\n",
       " 70,\n",
       " 71,\n",
       " 72,\n",
       " 73,\n",
       " 74,\n",
       " 75,\n",
       " 76,\n",
       " 77,\n",
       " 78,\n",
       " 79,\n",
       " 80,\n",
       " 81,\n",
       " 82,\n",
       " 83,\n",
       " 84,\n",
       " 85,\n",
       " 86,\n",
       " 87,\n",
       " 88,\n",
       " 89,\n",
       " 90,\n",
       " 91,\n",
       " 92,\n",
       " 93,\n",
       " 94,\n",
       " 95,\n",
       " 96,\n",
       " 97,\n",
       " 98,\n",
       " 99]"
      ]
     },
     "execution_count": 9,
     "metadata": {},
     "output_type": "execute_result"
    }
   ],
   "source": [
    "[i for i in range(100)]"
   ]
  },
  {
   "cell_type": "markdown",
   "metadata": {},
   "source": []
  },
  {
   "cell_type": "markdown",
   "metadata": {},
   "source": []
  },
  {
   "cell_type": "markdown",
   "metadata": {},
   "source": [
    "#### 转移数据库\n",
    "> python manage.py makemigrations  \n",
    "python manage.py migrate  "
   ]
  },
  {
   "cell_type": "markdown",
   "metadata": {},
   "source": [
    "#### JsonResponse与HttpResponse\n",
    "+ 输入格式不同"
   ]
  },
  {
   "cell_type": "markdown",
   "metadata": {},
   "source": []
  },
  {
   "cell_type": "markdown",
   "metadata": {},
   "source": [
    "https://upload-images.jianshu.io/upload_images/12842279-9eaa22bc0f4c7011.png?imageMogr2/auto-orient/strip|imageView2/2/w/940"
   ]
  },
  {
   "cell_type": "markdown",
   "metadata": {},
   "source": [
    "# 接口设计\n",
    ">Restful风格"
   ]
  },
  {
   "cell_type": "markdown",
   "metadata": {},
   "source": [
    "# 安装vue"
   ]
  },
  {
   "cell_type": "markdown",
   "metadata": {},
   "source": [
    "1、安装brew  \n",
    "打开终端运行以下命令：  \n",
    "  \n",
    ">/usr/bin/ruby -e \"$(curl -fsSL https://raw.githubusercontent.com/Homebrew/install/master/install)\"\n",
    "\n",
    "安装成功后，查看一下brew的版本信息：  \n",
    "  \n",
    ">brew -v\n",
    "\n",
    "注：我安装成功后，在查看brew的信息是出现”-bash: brew: command not found”,处理方法：解决mac安装homebrew后报错-bash: brew: command not found，还要说明一点的是，我没有vim去修改那个文件，我是直接找到那个文件用文本编辑器直接修改的。"
   ]
  },
  {
   "cell_type": "markdown",
   "metadata": {},
   "source": [
    "2、安装node.js  \n",
    "在终端中运行以下命令：  \n",
    "\n",
    ">brew install nodejs\n",
    "也可以下载后安装：  \n",
    "下载地址：https://nodejs.org/en/download/  \n",
    "\n",
    "安装成功后，查看一下node.js的版本信息：  \n",
    "\n",
    ">node -v"
   ]
  },
  {
   "cell_type": "markdown",
   "metadata": {},
   "source": [
    "3、获取nodejs模块安装目录访问权限\n",
    "\n",
    ">sudo chmod -R 777 /usr/local/lib/node_modules/"
   ]
  },
  {
   "cell_type": "markdown",
   "metadata": {},
   "source": [
    "4、安装 淘宝镜像 （npm）\n",
    "\n",
    ">npm install -g cnpm --registry=https://registry.npm.taobao.org"
   ]
  },
  {
   "cell_type": "markdown",
   "metadata": {},
   "source": [
    "5、安装webpack\n",
    "\n",
    ">cnpm install webpack -g"
   ]
  },
  {
   "cell_type": "markdown",
   "metadata": {},
   "source": [
    "6、安装vue脚手架\n",
    "\n",
    ">cnpm install vue-cli -g"
   ]
  },
  {
   "cell_type": "markdown",
   "metadata": {},
   "source": [
    "# vue的使用"
   ]
  },
  {
   "cell_type": "markdown",
   "metadata": {},
   "source": [
    "7、在硬盘上找一个文件夹放工程用的，在终端中进入该目录\n",
    "\n",
    ">cd 目录路径"
   ]
  },
  {
   "cell_type": "markdown",
   "metadata": {},
   "source": [
    "8、根据模板创建项目  \n",
    "\n",
    ">vue-init webpack 工程名字<工程名字不能用中文>   \n",
    "\n",
    "\n",
    "cd 命令进入创建的工程目录  \n",
    "\n",
    ">cd demo1  \n",
    "注意：最后三步都是要进入到当前工程目录后执行的。"
   ]
  },
  {
   "cell_type": "markdown",
   "metadata": {},
   "source": [
    "9、安装项目依赖\n",
    "\n",
    ">cnpm install  \n",
    "cnpm run build"
   ]
  },
  {
   "cell_type": "markdown",
   "metadata": {},
   "source": [
    "10、安装 vue 路由模块vue-router和网络请求模块vue-resource\n",
    "\n",
    ">cnpm install vue-router vue-resource --save"
   ]
  },
  {
   "cell_type": "markdown",
   "metadata": {},
   "source": [
    "11、启动项目\n",
    "\n",
    ">npm run dev\n"
   ]
  },
  {
   "cell_type": "code",
   "execution_count": 4,
   "metadata": {},
   "outputs": [],
   "source": [
    "a = [1,2,3]\n",
    "a.clear()"
   ]
  },
  {
   "cell_type": "code",
   "execution_count": 15,
   "metadata": {},
   "outputs": [
    {
     "data": {
      "text/plain": [
       "[]"
      ]
     },
     "execution_count": 15,
     "metadata": {},
     "output_type": "execute_result"
    }
   ],
   "source": [
    "a = [1,2,3]\n",
    "a.clear()\n",
    "a"
   ]
  },
  {
   "cell_type": "code",
   "execution_count": 25,
   "metadata": {},
   "outputs": [
    {
     "data": {
      "text/plain": [
       "[1, 2, 3, 4, 5, 6, 7, 8, 9]"
      ]
     },
     "execution_count": 25,
     "metadata": {},
     "output_type": "execute_result"
    }
   ],
   "source": [
    "[i for i in range(10) if i >5 or i]"
   ]
  },
  {
   "cell_type": "code",
   "execution_count": null,
   "metadata": {},
   "outputs": [],
   "source": [
    "import pandas as pd\n",
    "pan = pd.read_excel('')\n",
    "for index, rows in pan.iterrows():\n",
    "    if rows['MT'].strip() > 4:\n",
    "        \n",
    "[i.strip() for i in list(pan['MT']) if len(i.strip())>4]\n",
    "    "
   ]
  },
  {
   "cell_type": "code",
   "execution_count": 5,
   "metadata": {},
   "outputs": [],
   "source": [
    "context = {}\n",
    "context['data'] = [1, 2, 3, 4, 5, 6, 7, 8, 9, 10, 11]"
   ]
  },
  {
   "cell_type": "code",
   "execution_count": 6,
   "metadata": {},
   "outputs": [
    {
     "data": {
      "text/plain": [
       "{'data': [1, 2, 3, 4, 5, 6, 7, 8, 9, 10, 11]}"
      ]
     },
     "execution_count": 6,
     "metadata": {},
     "output_type": "execute_result"
    }
   ],
   "source": [
    "context"
   ]
  },
  {
   "cell_type": "code",
   "execution_count": 10,
   "metadata": {},
   "outputs": [
    {
     "data": {
      "text/plain": [
       "2"
      ]
     },
     "execution_count": 10,
     "metadata": {},
     "output_type": "execute_result"
    }
   ],
   "source": [
    "max(1,2)"
   ]
  },
  {
   "cell_type": "code",
   "execution_count": null,
   "metadata": {},
   "outputs": [],
   "source": []
  }
 ],
 "metadata": {
  "kernelspec": {
   "display_name": "Python 3",
   "language": "python",
   "name": "python3"
  },
  "language_info": {
   "codemirror_mode": {
    "name": "ipython",
    "version": 3
   },
   "file_extension": ".py",
   "mimetype": "text/x-python",
   "name": "python",
   "nbconvert_exporter": "python",
   "pygments_lexer": "ipython3",
   "version": "3.7.1"
  }
 },
 "nbformat": 4,
 "nbformat_minor": 4
}
